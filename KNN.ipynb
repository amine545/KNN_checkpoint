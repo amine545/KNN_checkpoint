{
  "nbformat": 4,
  "nbformat_minor": 0,
  "metadata": {
    "colab": {
      "name": "Untitled6.ipynb",
      "provenance": [],
      "collapsed_sections": [],
      "toc_visible": true
    },
    "kernelspec": {
      "name": "python3",
      "display_name": "Python 3"
    },
    "language_info": {
      "name": "python"
    }
  },
  "cells": [
    {
      "cell_type": "code",
      "execution_count": null,
      "metadata": {
        "id": "9_9ZlMGHS0EC"
      },
      "outputs": [],
      "source": [
        "# 1) Handle Data\n",
        "\n",
        "import csv\n",
        "import random\n",
        "import math\n",
        "import numpy as np\n",
        "import operator\n",
        "with open('iris.data.txt', 'r') as csvfile:\n",
        "\n",
        "  lines = csv.reader(csvfile)\n",
        "\n",
        "  for row in lines :\n",
        "\n",
        "    print (', '.join(row))\n",
        "def loadDataset(filename, split, trainingSet=[] , testSet=[]):\n",
        "\n",
        "  with open(filename, 'r') as csvfile:\n",
        "\n",
        "    lines = csv.reader(csvfile)\n",
        "\n",
        "    dataset = list(lines)\n",
        "\n",
        "  for x in range(len(dataset)-1):\n",
        "\n",
        "    for y in range(4):\n",
        "\n",
        "      dataset[x][y] = float(dataset[x][y])\n",
        "\n",
        "    if random.random() < split:\n",
        "\n",
        "       trainingSet.append(dataset[x])\n",
        "\n",
        "    else:\n",
        "\n",
        "       testSet.append(dataset[y])\n"
      ]
    },
    {
      "cell_type": "code",
      "source": [
        "trainingSet=[]\n",
        "\n",
        "testSet=[]\n",
        "\n",
        "loadDataset('iris.data.txt', 0.66, trainingSet, testSet)\n",
        "\n",
        "print ('Train: ' + repr(len(trainingSet)))\n",
        "\n",
        "print ('Test: ' + repr(len(testSet)) )\n"
      ],
      "metadata": {
        "colab": {
          "base_uri": "https://localhost:8080/"
        },
        "id": "w-2F4znETXB2",
        "outputId": "8490de23-1062-4c4f-818a-a1246df5dff1"
      },
      "execution_count": 147,
      "outputs": [
        {
          "output_type": "stream",
          "name": "stdout",
          "text": [
            "Train: 88\n",
            "Test: 61\n"
          ]
        }
      ]
    },
    {
      "cell_type": "code",
      "source": [
        "# 2) Similarity\n",
        "\n",
        "def euclideanDistance(trainingSet, testSet,length):\n",
        "  a=0\n",
        "  for i in range(length) :\n",
        "    a+=(trainingSet[i] - testSet[i])**2\n",
        "\n",
        "  return math.sqrt(a)\n"
      ],
      "metadata": {
        "id": "eK8yxPNGVbsd"
      },
      "execution_count": 166,
      "outputs": []
    },
    {
      "cell_type": "code",
      "source": [
        "data1 = [2, 2, 2, 'a']\n",
        "\n",
        "data2 = [4, 4, 4, 'b']\n",
        "\n",
        "distance = euclideanDistance(data1, data2, 3)\n",
        "\n",
        "print ('Distance: ' + repr(distance))\n"
      ],
      "metadata": {
        "colab": {
          "base_uri": "https://localhost:8080/"
        },
        "id": "q2xPX5nLse0N",
        "outputId": "7e7491a9-6d82-41bc-d383-ffcc0ad2ef3a"
      },
      "execution_count": 167,
      "outputs": [
        {
          "output_type": "stream",
          "name": "stdout",
          "text": [
            "Distance: 3.4641016151377544\n"
          ]
        }
      ]
    },
    {
      "cell_type": "code",
      "source": [
        "# 3) Neighbors\n",
        "\n",
        "def getNeighbors(trainingSet, testInstance, k):\n",
        "\tdistances = []\n",
        "\tlength = len(testInstance)-1\n",
        "\tfor x in range(len(trainingSet)):\n",
        "\t\tdist = euclideanDistance(testInstance, trainingSet[x], length)\n",
        "\t\tdistances.append((trainingSet[x], dist))\n",
        "\tdistances.sort(key=operator.itemgetter(1))\n",
        "\tneighbors = []\n",
        "\tfor x in range(k):\n",
        "\t\tneighbors.append(distances[x][0])\n",
        "\treturn neighbors"
      ],
      "metadata": {
        "id": "Mqxudb7YiE-I"
      },
      "execution_count": 150,
      "outputs": []
    },
    {
      "cell_type": "code",
      "source": [
        "trainSet = [[2, 2, 2, 'a'], [4, 4, 4, 'b'], [4, 5, 4, 'b']]\n",
        "testInstance = [5, 5, 5]\n",
        "k = 2\n",
        "neighbors = getNeighbors(trainSet, testInstance, k)\n",
        "print(neighbors)"
      ],
      "metadata": {
        "colab": {
          "base_uri": "https://localhost:8080/"
        },
        "id": "HJnv1zQ6whUz",
        "outputId": "0054ff48-009e-4497-b5e9-dc7f8a0abecd"
      },
      "execution_count": 151,
      "outputs": [
        {
          "output_type": "stream",
          "name": "stdout",
          "text": [
            "[[4, 5, 4, 'b'], [4, 4, 4, 'b']]\n"
          ]
        }
      ]
    },
    {
      "cell_type": "code",
      "source": [
        "# 4) Response\n",
        "\n",
        "import operator\n",
        "\n",
        "def getResponse(neighbors):\n",
        "\n",
        "  classVotes = {}\n",
        "\n",
        "  for x in range(len(neighbors)):\n",
        "\n",
        "    response = neighbors[x][-1] #complete with appropriate number\n",
        "\n",
        "    if response in classVotes:\n",
        "      classVotes[response]=classVotes[response]+1\n",
        "    else :\n",
        "      classVotes[response]=1\n",
        "  sortedVotes = sorted(classVotes.items(), key=operator.itemgetter(1), reverse=True)\n",
        "  print(sortedVotes)\n",
        "  return sortedVotes[0][0]\n",
        "\n",
        "\n"
      ],
      "metadata": {
        "id": "huov8q_8ikQY"
      },
      "execution_count": 152,
      "outputs": []
    },
    {
      "cell_type": "code",
      "source": [
        "\n",
        "neighbors = [[3,3,3,'b'],[1,1,1,'a'], [3,3,3,'b']]\n",
        "\n",
        "response = getResponse(neighbors)\n",
        "\n",
        "print(response)"
      ],
      "metadata": {
        "colab": {
          "base_uri": "https://localhost:8080/"
        },
        "id": "UkA2vA1LLQ-j",
        "outputId": "5aa19cf3-c06d-4d58-e37c-6f739d57c929"
      },
      "execution_count": 153,
      "outputs": [
        {
          "output_type": "stream",
          "name": "stdout",
          "text": [
            "[('b', 2), ('a', 1)]\n",
            "b\n"
          ]
        }
      ]
    },
    {
      "cell_type": "code",
      "source": [
        "# 5) Accuracy\n",
        "\n",
        "def getAccuracy(testSet, predictions):\n",
        "  data=[]\n",
        "  correct=0\n",
        "  for i in range(len(testSet)):\n",
        "    data.append(testSet[i][-1])\n",
        "  for i in range (len(testSet)):\n",
        "    if data[i]==predictions[i]:\n",
        "      correct+=1\n",
        "  return (correct/float(len(testSet))) * 100.0\n",
        "\n"
      ],
      "metadata": {
        "id": "oauPY-WQjElY"
      },
      "execution_count": 154,
      "outputs": []
    },
    {
      "cell_type": "code",
      "source": [
        "\n",
        "testSet = [[1,1,1,'a'], [2,2,2,'a'], [3,3,3,'b']]\n",
        "\n",
        "predictions = ['a', 'a', 'a']\n",
        "\n",
        "accuracy = getAccuracy(testSet, predictions)\n",
        "\n",
        "print(accuracy)\n"
      ],
      "metadata": {
        "colab": {
          "base_uri": "https://localhost:8080/"
        },
        "id": "678mievVK-FC",
        "outputId": "ccd932a6-d85d-4f24-8895-f66d60e3caba"
      },
      "execution_count": 158,
      "outputs": [
        {
          "output_type": "stream",
          "name": "stdout",
          "text": [
            "66.66666666666666\n"
          ]
        }
      ]
    },
    {
      "cell_type": "code",
      "source": [
        "# 6) Main\n",
        "import csv\n",
        "import random\n",
        "import math\n",
        "import numpy as np\n",
        "import operator\n",
        "with open('iris.data.txt', 'r') as csvfile:\n",
        "\n",
        "  lines = csv.reader(csvfile)\n",
        "\n",
        "def main(datatset):\n",
        "  def loadDataset(filename, split, trainingSet=[] , testSet=[]):\n",
        "\n",
        "    with open(filename, 'r') as csvfile:\n",
        "\n",
        "      lines = csv.reader(csvfile)\n",
        "\n",
        "      dataset = list(lines)\n",
        "\n",
        "    for x in range(len(dataset)-1):\n",
        "\n",
        "      for y in range(4):\n",
        "\n",
        "        dataset[x][y] = float(dataset[x][y])\n",
        "\n",
        "      if random.random() < split:\n",
        "\n",
        "        trainingSet.append(dataset[x])\n",
        "\n",
        "      else:\n",
        "\n",
        "        testSet.append(dataset[y])\n",
        "\n",
        "\n",
        "  def euclideanDistance(trainingSet, testSet,length):\n",
        "    a=0\n",
        "    for i in range(length) :\n",
        "      a+=(trainingSet[i] - testSet[i])**2\n",
        "\n",
        "    return math.sqrt(a)\n",
        "\n",
        "\n",
        "  def getNeighbors(trainingSet, testInstance, k):\n",
        "    distances = []\n",
        "    length = len(testInstance)-1\n",
        "    for x in range(len(trainingSet)):\n",
        "      dist = euclideanDistance(testInstance, trainingSet[x], length)\n",
        "      distances.append((trainingSet[x], dist))\n",
        "    distances.sort(key=operator.itemgetter(1))\n",
        "    neighbors = []\n",
        "    for x in range(k):\n",
        "      neighbors.append(distances[x][0])\n",
        "    return neighbors\n",
        "\n",
        "\n",
        "  def getResponse(neighbors):\n",
        "\n",
        "    classVotes = {}\n",
        "\n",
        "    for x in range(len(neighbors)):\n",
        "\n",
        "      response = neighbors[x][-1] #complete with appropriate number\n",
        "\n",
        "      if response in classVotes:\n",
        "        classVotes[response]=classVotes[response]+1\n",
        "      else :\n",
        "        classVotes[response]=1\n",
        "    sortedVotes = sorted(classVotes.items(), key=operator.itemgetter(1), reverse=True)\n",
        "    print(sortedVotes)\n",
        "    return sortedVotes[0][0]\n",
        "\n",
        "\n",
        "  def getAccuracy(testSet, predictions):\n",
        "    data=[]\n",
        "    correct=0\n",
        "    for i in range(len(testSet)):\n",
        "      data.append(testSet[i][-1])\n",
        "    for i in range (len(testSet)):\n",
        "      if data[i]==predictions[i]:\n",
        "        correct+=1\n",
        "    print((correct/float(len(testSet))) * 100.0)\n",
        "main('iris.data.txt')"
      ],
      "metadata": {
        "id": "CmdCH9PBOeJ9"
      },
      "execution_count": 182,
      "outputs": []
    },
    {
      "cell_type": "code",
      "source": [
        "# manhattan function\n",
        "# in this example we could use this function to calculate the distance between the testpoint and the other points\n",
        "def manhattanDistance(trainingSet, testSet,length):\n",
        "  a=0\n",
        "  for i in range(length) :\n",
        "    a+=math.fabs(trainingSet[i] - testSet[i])\n",
        "\n",
        "  return a\n",
        "  \n",
        "data1 = [2, 2, 2, 'a']\n",
        "\n",
        "data2 = [4, 4, 4, 'b']\n",
        "\n",
        "distance = manhattanDistance(data1, data2, 3)\n",
        "\n",
        "print ('Distance: ' + repr(distance))"
      ],
      "metadata": {
        "colab": {
          "base_uri": "https://localhost:8080/"
        },
        "id": "FZE7Cl-vMfPC",
        "outputId": "418ad842-10de-4458-b0f1-141200671846"
      },
      "execution_count": 169,
      "outputs": [
        {
          "output_type": "stream",
          "name": "stdout",
          "text": [
            "Distance: 6.0\n"
          ]
        }
      ]
    },
    {
      "cell_type": "code",
      "source": [
        ""
      ],
      "metadata": {
        "id": "lNmmjw7uNDtd"
      },
      "execution_count": null,
      "outputs": []
    }
  ]
}